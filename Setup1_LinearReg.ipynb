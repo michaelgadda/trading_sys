{
 "cells": [
  {
   "cell_type": "code",
   "execution_count": 1,
   "metadata": {},
   "outputs": [],
   "source": [
    "import pandas as pd\n",
    "import numpy as np\n",
    "import statsmodels.api as sm\n",
    "import sklearn as sk\n",
    "from sklearn.linear_model import LinearRegression\n",
    "from sklearn.model_selection import train_test_split as tts\n",
    "import matplotlib.pyplot as plt\n",
    "import seaborn as sns\n",
    "%matplotlib inline\n",
    "\n",
    "#a few unecessary libraries in here, but keep them in case you want to test them out"
   ]
  },
  {
   "cell_type": "code",
   "execution_count": 20,
   "metadata": {},
   "outputs": [],
   "source": [
    "sc_data1 = pd.ExcelFile(r'C:\\Users\\Michael G\\Documents\\Play1Data.xlsx')\n",
    "sc_data = pd.read_excel(sc_data1, 'Range Bound Play 1 (V2)-FLAT')"
   ]
  },
  {
   "cell_type": "code",
   "execution_count": 21,
   "metadata": {},
   "outputs": [],
   "source": [
    "sc_data = sc_data.rename(columns = {'Opening Price % Retracement of Prior Move (relative to day)': 'PM_Retracement'})\n",
    "sc_data = sc_data.rename(columns = {'Pullback % from open (relative to day) ': 'Pullback'})\n",
    "\n",
    "\n",
    "#need to understand data transformation -- task"
   ]
  },
  {
   "cell_type": "code",
   "execution_count": 41,
   "metadata": {},
   "outputs": [
    {
     "data": {
      "text/plain": [
       "-0.2667631791418184"
      ]
     },
     "execution_count": 41,
     "metadata": {},
     "output_type": "execute_result"
    },
    {
     "data": {
      "image/png": "[encoded data removed]",
      "text/plain": [
       "<Figure size 432x288 with 1 Axes>"
      ]
     },
     "metadata": {
      "needs_background": "light"
     },
     "output_type": "display_data"
    }
   ],
   "source": [
    "sc_data.dropna(subset = ['Pullback % from open'], axis = 0, how = 'all', inplace = True)\n",
    "sc_data.dropna(subset = ['Retracement of Prior Move % until lowerst low (Not relative)'], axis = 0, how = 'all', inplace = True)\n",
    "sc_data.dropna(subset = ['FLOAT(M)'], axis = 0, how = 'all', inplace = True)\n",
    "sc_data.dropna(subset = ['Squeeze %'], axis = 0, how = 'all', inplace = True)\n",
    "#filters that will be implimented into gui, but in a different setting\n",
    "f1  = sc_data['FLOAT(M)'] < 50\n",
    "f2 = sc_data['PM VOL'] > 3000000\n",
    "f3 = sc_data['MKT CAP(M)'] < 100\n",
    "f4 = sc_data['Prior Close to PM Hi %'] > .75\n",
    "f5 = sc_data['Time until ideal entry point (mins) from open'] > 5\n",
    "f6 = sc_data['PM_Retracement'] < .3\n",
    "f7 = sc_data['Pullback % from open'] < .19\n",
    "#to apply filter -- sc_data[f1]\n",
    "\n",
    "qq = sc_data\n",
    "\n",
    "\n",
    "x = qq[['PM_Retracement']]\n",
    "y = qq[['Pullback % from open']]\n",
    "#y = qq[['Time until ideal entry point (mins) from open']]\n",
    "#x = qq[['Pullback % from open']]\n",
    "\n",
    "\n",
    "#There is a linear correlation between the two however most y values are between 1 and 5 for any x which makes the linear\n",
    "#fairly worthless, i tested only doing y values between 1 and 5 and it was pretty much random \n",
    "\n",
    "#I've tested tons of combinations for x and y and none have proven to have linear correlation\n",
    "\n",
    "#Others combinations need to be tested however data needs to be cleaned, sorted, and grouped better in order for a linear model\n",
    "#to work \n",
    "\n",
    "#My assumption was that there would be a linear correlation between the PM_retracement (retracement from pm hi to open) and \n",
    "#the pullback percentage from open to the lowest low, however that doesnt seem to necesarilly be the case. \n",
    "\n",
    "#Ideas to better fix this: cluster into groups including: dipped below pm range support, range greater (and less than) than 50%\n",
    "#of first spike --- just some thoughts -- obviously lots of kinks to workout with the groupings\n",
    "\n",
    "#Until a well fitting model is found (r^2 >= .25) I will continue to use filtered averages and continue to clean/narrow in data\n",
    "\n",
    "plt.scatter(x,y)\n",
    "qq['Pullback % from open'].corr(sc_data['PM_Retracement'])\n",
    "#negative correlation showing that the larger the pm retracement the less the pullback % will be - this was expected."
   ]
  },
  {
   "cell_type": "code",
   "execution_count": 42,
   "metadata": {},
   "outputs": [],
   "source": [
    "#Need to add to data: \n",
    "    #-Bottom of PM Range\n",
    "    #-Range % of PM RANGE\n",
    "    #- The % that the low goes past the PM Range support"
   ]
  },
  {
   "cell_type": "code",
   "execution_count": 43,
   "metadata": {},
   "outputs": [
    {
     "data": {
      "text/plain": [
       "LinearRegression()"
      ]
     },
     "execution_count": 43,
     "metadata": {},
     "output_type": "execute_result"
    }
   ],
   "source": [
    "np.any(np.isnan(x))\n",
    "model = LinearRegression()\n",
    "\n",
    "model.fit(x,y)"
   ]
  },
  {
   "cell_type": "code",
   "execution_count": 44,
   "metadata": {},
   "outputs": [
    {
     "name": "stdout",
     "output_type": "stream",
     "text": [
      "[0.13304458]\n",
      "[[-0.10346505]]\n"
     ]
    }
   ],
   "source": [
    "print(model.intercept_)\n",
    "print(model.coef_)"
   ]
  },
  {
   "cell_type": "code",
   "execution_count": 45,
   "metadata": {},
   "outputs": [
    {
     "data": {
      "text/plain": [
       "[<matplotlib.lines.Line2D at 0x2506ac35f70>]"
      ]
     },
     "execution_count": 45,
     "metadata": {},
     "output_type": "execute_result"
    },
    {
     "data": {
      "image/png": "[encoded data removed]",
      "text/plain": [
       "<Figure size 432x288 with 1 Axes>"
      ]
     },
     "metadata": {
      "needs_background": "light"
     },
     "output_type": "display_data"
    }
   ],
   "source": [
    "b0 = model.intercept_\n",
    "b1 = model.coef_\n",
    "\n",
    "xx = np.linspace(np.min(x),1)\n",
    "yy = b0 + b1 * xx\n",
    "plt.scatter(x,y)\n",
    "plt.plot(xx, yy, color = 'red')"
   ]
  },
  {
   "cell_type": "code",
   "execution_count": 46,
   "metadata": {},
   "outputs": [],
   "source": [
    "#There may be a negative linear correlation with the PM retracement and the pullback percentage, however it \n",
    "#will most likely be minimal due to the wide variance in data points"
   ]
  },
  {
   "cell_type": "code",
   "execution_count": 47,
   "metadata": {},
   "outputs": [
    {
     "name": "stdout",
     "output_type": "stream",
     "text": [
      "                             OLS Regression Results                             \n",
      "================================================================================\n",
      "Dep. Variable:     Pullback % from open   R-squared:                       0.071\n",
      "Model:                              OLS   Adj. R-squared:                  0.055\n",
      "Method:                   Least Squares   F-statistic:                     4.367\n",
      "Date:                  Sat, 30 Jan 2021   Prob (F-statistic):             0.0411\n",
      "Time:                          20:31:46   Log-Likelihood:                 88.018\n",
      "No. Observations:                    59   AIC:                            -172.0\n",
      "Df Residuals:                        57   BIC:                            -167.9\n",
      "Df Model:                             1                                         \n",
      "Covariance Type:              nonrobust                                         \n",
      "==================================================================================\n",
      "                     coef    std err          t      P>|t|      [0.025      0.975]\n",
      "----------------------------------------------------------------------------------\n",
      "const              0.1330      0.015      8.970      0.000       0.103       0.163\n",
      "PM_Retracement    -0.1035      0.050     -2.090      0.041      -0.203      -0.004\n",
      "==============================================================================\n",
      "Omnibus:                       26.954   Durbin-Watson:                   1.678\n",
      "Prob(Omnibus):                  0.000   Jarque-Bera (JB):               51.708\n",
      "Skew:                           1.479   Prob(JB):                     5.91e-12\n",
      "Kurtosis:                       6.505   Cond. No.                         7.35\n",
      "==============================================================================\n",
      "\n",
      "Warnings:\n",
      "[1] Standard Errors assume that the covariance matrix of the errors is correctly specified.\n"
     ]
    }
   ],
   "source": [
    "X = sm.add_constant(x)\n",
    "model1 = sm.OLS(y,X).fit()\n",
    "print(model1.summary())\n",
    "\n",
    "\n",
    "X_train, x_test, Y_train, y_test = tts(x,y, test_size = .2, random_state = 1)\n"
   ]
  },
  {
   "cell_type": "code",
   "execution_count": 29,
   "metadata": {},
   "outputs": [],
   "source": [
    "#As expected, the r^2 shows minimal prediction capabilities for PM retracement onto pullback %\n",
    "#P value is above the normal alpha level of .05 \n",
    "\n",
    "\n",
    "#Data have been cleaned once, adj r^2 increased by .03 and P value decreased by .05 -- good start"
   ]
  },
  {
   "cell_type": "code",
   "execution_count": 30,
   "metadata": {},
   "outputs": [
    {
     "data": {
      "text/plain": [
       "LinearRegression()"
      ]
     },
     "execution_count": 30,
     "metadata": {},
     "output_type": "execute_result"
    },
    {
     "data": {
      "image/png": "[encoded data removed]",
      "text/plain": [
       "<Figure size 432x288 with 1 Axes>"
      ]
     },
     "metadata": {
      "needs_background": "light"
     },
     "output_type": "display_data"
    }
   ],
   "source": [
    "sns.residplot(x,y)\n",
    "model2 = LinearRegression()\n",
    "model2.fit(X_train, Y_train)"
   ]
  },
  {
   "cell_type": "code",
   "execution_count": 31,
   "metadata": {},
   "outputs": [],
   "source": [
    "#Residuals seem to show standard error which is good, no patterns are visible"
   ]
  },
  {
   "cell_type": "code",
   "execution_count": 32,
   "metadata": {},
   "outputs": [],
   "source": [
    "\n",
    "X2 = sm.add_constant(X)\n",
    "model = sm.OLS(y, X2)\n",
    "est = model.fit()"
   ]
  },
  {
   "cell_type": "code",
   "execution_count": 33,
   "metadata": {},
   "outputs": [
    {
     "name": "stdout",
     "output_type": "stream",
     "text": [
      "                             OLS Regression Results                             \n",
      "================================================================================\n",
      "Dep. Variable:     Pullback % from open   R-squared:                       0.071\n",
      "Model:                              OLS   Adj. R-squared:                  0.055\n",
      "Method:                   Least Squares   F-statistic:                     4.367\n",
      "Date:                  Sat, 30 Jan 2021   Prob (F-statistic):             0.0411\n",
      "Time:                          20:26:41   Log-Likelihood:                 88.018\n",
      "No. Observations:                    59   AIC:                            -172.0\n",
      "Df Residuals:                        57   BIC:                            -167.9\n",
      "Df Model:                             1                                         \n",
      "Covariance Type:              nonrobust                                         \n",
      "==================================================================================\n",
      "                     coef    std err          t      P>|t|      [0.025      0.975]\n",
      "----------------------------------------------------------------------------------\n",
      "const              0.1330      0.015      8.970      0.000       0.103       0.163\n",
      "PM_Retracement    -0.1035      0.050     -2.090      0.041      -0.203      -0.004\n",
      "==============================================================================\n",
      "Omnibus:                       26.954   Durbin-Watson:                   1.678\n",
      "Prob(Omnibus):                  0.000   Jarque-Bera (JB):               51.708\n",
      "Skew:                           1.479   Prob(JB):                     5.91e-12\n",
      "Kurtosis:                       6.505   Cond. No.                         7.35\n",
      "==============================================================================\n",
      "\n",
      "Warnings:\n",
      "[1] Standard Errors assume that the covariance matrix of the errors is correctly specified.\n"
     ]
    }
   ],
   "source": [
    "print(est.summary())"
   ]
  },
  {
   "cell_type": "code",
   "execution_count": null,
   "metadata": {},
   "outputs": [],
   "source": []
  },
  {
   "cell_type": "code",
   "execution_count": null,
   "metadata": {},
   "outputs": [],
   "source": []
  }
 ],
 "metadata": {
  "kernelspec": {
   "display_name": "Python 3",
   "language": "python",
   "name": "python3"
  },
  "language_info": {
   "codemirror_mode": {
    "name": "ipython",
    "version": 3
   },
   "file_extension": ".py",
   "mimetype": "text/x-python",
   "name": "python",
   "nbconvert_exporter": "python",
   "pygments_lexer": "ipython3",
   "version": "3.8.3"
  }
 },
 "nbformat": 4,
 "nbformat_minor": 4
}
